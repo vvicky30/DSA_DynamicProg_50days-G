{
 "cells": [
  {
   "cell_type": "markdown",
   "metadata": {},
   "source": [
    "# Tribonacci problem statement and definition:\n",
    "Tribonacci: The Tribonacci sequence Tn is defined as follows:\n",
    "\n",
    "T0 = 0, T1 = 1, T2 = 1, and Tn+3 = Tn + Tn+1 + Tn+2 for n >= 0.\n",
    "\n",
    "Given n, return the value of Tn.\n",
    "\n",
    "- Example 1:\n",
    "\n",
    "- Input: n = 4\n",
    "- Output: 4\n",
    "\n",
    "Explanation:\n",
    "\n",
    "T_3 = 0 + 1 + 1 = 2\n",
    "\n",
    "T_4 = 1 + 1 + 2 = 4\n",
    "\n",
    "\n",
    "\n",
    "- Example 2:\n",
    "\n",
    "- Input: n = 25\n",
    "\n",
    "- Output: 1389537"
   ]
  },
  {
   "cell_type": "code",
   "execution_count": 2,
   "metadata": {},
   "outputs": [
    {
     "name": "stdout",
     "output_type": "stream",
     "text": [
      "4\n",
      "1389537\n"
     ]
    }
   ],
   "source": [
    "def tribonacci(n):\n",
    "    # intializing zeroth, 1st and 2nd elements of tribonacci as per given instructions\n",
    "    zero = 0\n",
    "    one = 1\n",
    "    two = 1\n",
    "    # if n less 1 then retuen n as it's \n",
    "    if n<=1: return n\n",
    "    # if n equals to 2 then returns two's value (which's here 1)\n",
    "    if n==2: return two\n",
    "    # no iterating from 3 to n+1\n",
    "    for i in range(3,n+1):\n",
    "        next = zero + one+ two # formula \n",
    "        #swapping :\n",
    "        zero = one  #zeroth ele will be now 1st \n",
    "        one = two   #1st will be now 2nd\n",
    "        two = next  #2nd will be now next(just counted)\n",
    "    return next    \n",
    "\n",
    "print(tribonacci(4)) #should be 4\n",
    "print(tribonacci(25))\n",
    "\n"
   ]
  }
 ],
 "metadata": {
  "kernelspec": {
   "display_name": "DPenv",
   "language": "python",
   "name": "python3"
  },
  "language_info": {
   "codemirror_mode": {
    "name": "ipython",
    "version": 3
   },
   "file_extension": ".py",
   "mimetype": "text/x-python",
   "name": "python",
   "nbconvert_exporter": "python",
   "pygments_lexer": "ipython3",
   "version": "3.12.4"
  }
 },
 "nbformat": 4,
 "nbformat_minor": 2
}
