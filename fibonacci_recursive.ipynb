{
 "cells": [
  {
   "cell_type": "markdown",
   "metadata": {},
   "source": [
    "- Coding Exercise: Fibonacci\n",
    "- Question:\n",
    "Fibonacci - In the Fibonacci sequence, each subsequent term is obtained by adding the preceding 2 terms. This is true for all the numbers except the first 2 numbers of the Fibonacci series as they do not have 2 preceding numbers. The first 2 terms in the Fibonacci series is 0 and 1. F(n) = F(n-1)+F(n-2) for n>1.\n",
    "\n",
    " Write a function that finds F(n) given n where n is an integer greater than equal to 0. For the first term n = 0. (You can assume that no negative value will be passed. )\n",
    "\n",
    "Try:\n",
    "\n",
    "Try to optimise your solution. We will be discussing 3 solutions\n",
    "\n",
    "Solution 1: T=O(2^n) , S=O(n)\n",
    "\n",
    "Solution 2: T=O(n) , S=O(n)\n",
    "\n",
    "Solution 3: T=O(n) , S=O(1) --- best\n",
    "\n"
   ]
  }
 ],
 "metadata": {
  "kernelspec": {
   "display_name": "DPenv",
   "language": "python",
   "name": "python3"
  },
  "language_info": {
   "codemirror_mode": {
    "name": "ipython",
    "version": 3
   },
   "file_extension": ".py",
   "mimetype": "text/x-python",
   "name": "python",
   "nbconvert_exporter": "python",
   "pygments_lexer": "ipython3",
   "version": "3.12.4"
  }
 },
 "nbformat": 4,
 "nbformat_minor": 2
}
